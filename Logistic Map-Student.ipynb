{
 "cells": [
  {
   "cell_type": "markdown",
   "id": "add79848",
   "metadata": {},
   "source": [
    "<p style='text-align: justify'>\n",
    "\n",
    "# Modelling Population Dynamics of Organisms and negative density dependence\n",
    "\n",
    "## Introduction\n",
    "\n",
    "When looking at organisms in the wild, we often have to build models in order to make predictions about changes in their population[$^{[1]}$](#References). Many different factors can drive changes in the population of organisms. In this example, we will be considering the effects of finite resources on the growth of the number of rabbits or crabs in a toy model\n",
    "\n",
    "This entire project is going to explore a simple mathematical equation and how it can give insights into ecological systems. Such mathematical equations are often referred to as models. There are two types of models in mathematical biology, a discrete time model and continuous time model[$^{[2]}$](#References). For the purposes of this project, we are only going to be looking at discrete time models.\n",
    "\n",
    "### Discrete Time model\n",
    "\n",
    "A discrete time model is essentially a model that has time at set intervals. You can think of this as the model having a finite number of data points starting from the initial time to some final time taking steps of some time interval. For example, if we choose a time interval is 1 second, there will be a data point at 1 second, then the next at 2 seconds, but not at 1.5 seconds.\n",
    "\n",
    "Oftentimes, discrete time models use something called a difference equation[$^{[3]}$](#References) (not to be confused with its mathematical older brother, differential equations) which have this form (assuming $A_t$ is a certain species population at time $t$):\n",
    "\n",
    "$$A_{t+1} = kA_t$$\n",
    "\n",
    "Where the species population at time $t+1$ is directly affected by the species population at time $t$.\n",
    "\n",
    "## Why it is important to study this?\n",
    "\n",
    "Mathematical models that predict biological systems will give us insights and predictions on future systems. Assuming we are an employee of NParks, and we would want to predict if a certain environmental measure is helping with improving the ecosystem. We would then have a mathematical model of how certain species of animals are growing and see if various populations of species would die out.\n",
    "\n",
    "An example of this would be the tree types and populations in Singapore mangroves affecting the population of Tree-climbing crabs (_Episesarma spp._). Studying these crabs are particularly important because they recycle carbon on the mangrove floors and aid in decomposition, which makes them a keystone species[$^{[4]}$](#References). The loss of habitat could result in potential threat to them[$^{[5]}$](#References), which would be really bad!\n",
    "\n",
    "\n",
    "## Fibonacci Model\n",
    "\n",
    "So let's take a look at a very simple model first.\n",
    "A simple model is the Fibonacci rabbit problem[$^{[6]}$](#Reference). Assuming a population of adult rabbits, $A$, juvenile rabbits, $J$ at time, $t$, where it follows this formula: $$A_{t+1} = J_{t} + A_t$$\n",
    "\n",
    "This is because the number of adult rabbits is governed by how many adult rabbits there are and number of juvenile rabbits that will mature to become adult rabbits. However, the number of juvenile rabbits are also governed by how many adult rabbits there are too!\n",
    "\n",
    "\n",
    "| $$t$$   |  $$A_t$$            |   $$J_t$$ |\n",
    "|---------|:-------------------:|:-------------------:|\n",
    "| $$t_0$$ | 2                   |1                    |\n",
    "| $$t_1$$ | 3                   |2                    |\n",
    "| $$t_2$$ | 5                   |3                    |\n",
    "| $$t_3$$ | 8                   |5                    |\n",
    "| $$t_4$$ | 13                  |8                    |\n",
    "| $$t_n$$ | $$A_{t-1} + A_{t}$$ |$$J_{t-1} + J_{t}$$  |\n",
    "\n",
    "This means that, we start with 2 rabbits and these 2 rabbits would produce 1 rabbit. Then these 3 rabbits would produce 2 additional rabbits and so on.\n",
    "\n",
    "We can actually simplify the equation to this for ease of modelling later!\n",
    "\n",
    "$$A_{t+1} = A_{t-1} + A_t$$\n",
    "\n",
    "As you can already tell, it is tedious to generate a table like this, so let us do it in code instead!\n",
    "\n",
    "### Putting this into context\n",
    "\n",
    "Now, what if we **ARE** a manager of NParks and we want to track the population of _Episesarma spp._ over time in Singapore? We can employ the same model and assume the population of crabs follow the fibonacci sequence.\n",
    "    \n",
    "</p>"
   ]
  },
  {
   "cell_type": "code",
   "execution_count": 10,
   "id": "f4d98e7d",
   "metadata": {},
   "outputs": [],
   "source": [
    "# Import things\n",
    "import numpy as np\n",
    "import matplotlib.pyplot as plt"
   ]
  },
  {
   "cell_type": "code",
   "execution_count": 11,
   "id": "75a11846",
   "metadata": {},
   "outputs": [],
   "source": [
    "# Simulate a timeframe\n",
    "ts = np.arange(0,10)\n",
    "\n",
    "# Initialize a list to store our As\n",
    "As = [1]*len(ts)\n",
    "\n",
    "# Let us run a loop to simulate our model\n",
    "for t in ts:\n",
    "    # The formula of our model\n",
    "    As[t] = As[t-2] + As[t-1]"
   ]
  },
  {
   "cell_type": "markdown",
   "id": "6bb61c8c",
   "metadata": {},
   "source": [
    "Now that we have the results from the model, we can plot them using `ts` as our x-axis and `As` as our `y-axis`."
   ]
  },
  {
   "cell_type": "code",
   "execution_count": 12,
   "id": "9b99dbd4",
   "metadata": {
    "scrolled": true
   },
   "outputs": [
    {
     "data": {
      "image/png": "[encoded data removed]",
      "text/plain": [
       "<Figure size 432x288 with 1 Axes>"
      ]
     },
     "metadata": {
      "needs_background": "light"
     },
     "output_type": "display_data"
    }
   ],
   "source": [
    "plt.plot(ts, As,'o-')\n",
    "plt.xlabel('$t$', size = 20)\n",
    "plt.ylabel('$A_t$', size = 20)\n",
    "plt.show()"
   ]
  },
  {
   "cell_type": "markdown",
   "id": "264cd233",
   "metadata": {},
   "source": [
    "<p style='text-align: justify'>\n",
    "\n",
    "### Simplifying the workflow\n",
    "Since we would be exploring more models today, it would be nice to simulate these models easily. Hence, we can push all of these code into 1 function, `simulate_func`.\n",
    "\n",
    "If we inspect our modelling code from before, we can point out some things:\n",
    "```python\n",
    "ts = np.arange(0,10) #<-- Array of time steps with 10 being max_t\n",
    "As = [1]*len(ts)\n",
    "for t in ts:\n",
    "    As[t] = As[t-2] + As[t-1] #<-- Func to calc A_t+1 using A_t & A_t-1\n",
    "```\n",
    "\n",
    "\n",
    "`simulate_func` will take in arguments, the modelling function `func` and, `max_t` for the maximum time frame.\n",
    "\n",
    "We then need to make a function to calculate A_t of the next time step, we can easily do this by passing in the time t and a list of As so we can use list indexing:\n",
    "\n",
    "```python\n",
    "def fibo_func(As,t):\n",
    "    return As[t-2] + As[t-1]\n",
    "```\n",
    "    \n",
    "</p>"
   ]
  },
  {
   "cell_type": "code",
   "execution_count": 13,
   "id": "0c7f27f1",
   "metadata": {},
   "outputs": [
    {
     "data": {
      "text/plain": [
       "[2, 3, 5, 8, 13, 21, 34, 55, 89, 144]"
      ]
     },
     "execution_count": 13,
     "metadata": {},
     "output_type": "execute_result"
    }
   ],
   "source": [
    "def simulate_func(func, max_t, A0 = 1):\n",
    "    ts = np.arange(0,max_t)\n",
    "    As = [A0]*len(ts)\n",
    "    for t in ts:\n",
    "        As[t] = func(As,t)\n",
    "    return As\n",
    "\n",
    "def fibo_func(As,t):\n",
    "    return As[t-2] + As[t-1]\n",
    "\n",
    "# Yep this works for us!\n",
    "simulate_func(fibo_func, 10)"
   ]
  },
  {
   "cell_type": "markdown",
   "id": "a5aba3a6",
   "metadata": {},
   "source": [
    "<p style='text-align: justify'>\n",
    "If you think about the previous crab model, it is a little unrealistic. This is because if the crab population did follow that curve, there would be infinite crabs in the world and every tree would be filled with CRABS! Regardless of how great that would be, we know this is not true in the real world because we are not surrounded by crabs.\n",
    "\n",
    "So what is going on here?\n",
    "\n",
    "## Negative Density Dependence\n",
    "\n",
    "Every biological system has limited resources (carrying capacity `K`) such as limited space and food sources. Hence the population of species in every environment would be limited in some way! Thus, we would need to introduce it in some way.\n",
    "\n",
    "I would not go into the details as to how this model came about[$^{[7]}$](#References), just... magic. Let `N` be the number of individuals and `r` to be a reproductive rate.\n",
    "\n",
    "$$N_{t+1} = \\left(1+r\\left(1-\\frac{N_t}{K}\\right)\\right)N_t$$\n",
    "\n",
    "This system is modelled below using our previously defined function.\n",
    "</p>"
   ]
  },
  {
   "cell_type": "code",
   "execution_count": 14,
   "id": "7787a8e2",
   "metadata": {},
   "outputs": [
    {
     "data": {
      "image/png": "[encoded data removed]",
      "text/plain": [
       "<Figure size 432x288 with 1 Axes>"
      ]
     },
     "metadata": {
      "needs_background": "light"
     },
     "output_type": "display_data"
    }
   ],
   "source": [
    "r = 0.5\n",
    "K = 100\n",
    "def density_dependence(Ns,t):\n",
    "    y = (1 + r*(1-(Ns[t-1]/K)))*Ns[t-1]\n",
    "    return y\n",
    "\n",
    "\n",
    "max_t = 25\n",
    "Ns = simulate_func(density_dependence, max_t)\n",
    "ts = np.arange(0,max_t)\n",
    "\n",
    "plt.plot(ts, Ns,'o-')\n",
    "plt.xlabel('$t$', size = 20)\n",
    "plt.ylabel('$N_t$', size = 20)\n",
    "plt.show()"
   ]
  },
  {
   "cell_type": "markdown",
   "id": "c47b5313",
   "metadata": {},
   "source": [
    "If we relate this new crab model to the original fibonacci crab model, intuitively we know that this is more realistic.\n",
    "\n",
    "Let us plot this new graph with the previous one and see the difference!"
   ]
  },
  {
   "cell_type": "code",
   "execution_count": 15,
   "id": "4cd98362",
   "metadata": {},
   "outputs": [
    {
     "data": {
      "image/png": "[encoded data removed]",
      "text/plain": [
       "<Figure size 432x288 with 1 Axes>"
      ]
     },
     "metadata": {
      "needs_background": "light"
     },
     "output_type": "display_data"
    }
   ],
   "source": [
    "max_t = 25\n",
    "Ns = simulate_func(density_dependence, max_t)\n",
    "ts = np.arange(0,max_t)\n",
    "\n",
    "As = simulate_func(fibo_func, max_t)\n",
    "\n",
    "ts = np.arange(0,max_t)\n",
    "\n",
    "plt.plot(ts, Ns,'o-', label = 'Density Dependence')\n",
    "plt.plot(ts, As,'o-', label = 'Fibonacci Problem')\n",
    "\n",
    "plt.ylim(0,300)\n",
    "plt.xlabel('$t$', size = 20)\n",
    "plt.ylabel('$N_t$ or $A_t$', size = 20)\n",
    "plt.legend()\n",
    "plt.show()"
   ]
  },
  {
   "cell_type": "markdown",
   "id": "0775bc14",
   "metadata": {},
   "source": [
    "<p style='text-align: justify'>\n",
    "Just like how intuition has told us, the fibonacci crab model predicts the population to grow geometrically and there would be infinite crabs given infinite time. Whereas, according to the density dependence model, given infinite time, the population of crabs would stay constant.\n",
    "\n",
    "This model is more in-line with what we see in reality! Let us explore this model further.\n",
    "\n",
    "### Equilibrium\n",
    "Let us see what happens if we forcefully decrease the population of crabs at `time = 20`. This could be due to mass poaching by the locals or rising sea levels which submerges a significant number of trees which decreases the available trees that crabs can climb on to avoid predators. \n",
    "</p>"
   ]
  },
  {
   "cell_type": "code",
   "execution_count": 16,
   "id": "45af1c38",
   "metadata": {},
   "outputs": [
    {
     "data": {
      "image/png": "[encoded data removed]",
      "text/plain": [
       "<Figure size 432x288 with 1 Axes>"
      ]
     },
     "metadata": {
      "needs_background": "light"
     },
     "output_type": "display_data"
    }
   ],
   "source": [
    "def density_dependence_perturb(Ns,t):\n",
    "    y = (1 + r*(1-(Ns[t-1]/K)))*Ns[t-1]\n",
    "    \n",
    "    # At time t = 20, forcefully drop the population by 50\n",
    "    if t == 20:\n",
    "        y -= 50\n",
    "    return y\n",
    "\n",
    "max_t = 40\n",
    "Ns = simulate_func(density_dependence_perturb, max_t)\n",
    "ts = np.arange(0,max_t)\n",
    "\n",
    "plt.plot(ts, Ns,'o-')\n",
    "plt.xlabel('$t$', size = 20)\n",
    "plt.ylabel('$N_t$', size = 20)\n",
    "plt.show()"
   ]
  },
  {
   "cell_type": "markdown",
   "id": "2c02335c",
   "metadata": {},
   "source": [
    "<p style='text-align: justify'>\n",
    "This is interesting. It seems like if we introduce a change in population (pertubation), the system still grows to a certain point. This is called a stable equilibrium!\n",
    "\n",
    "## Logistic Map\n",
    "\n",
    "The previous model: $$N_{t+1} = \\left(1+r\\left(1-\\frac{N_t}{K}\\right)\\right)N_t$$\n",
    "\n",
    "We can get rid of both `K` and `r` by doing cool math and replace them with `a`. This is important because it makes the analysis simpler as we went from a model with two parameter to a model with one[$^{[8]}$](#References)!\n",
    "\n",
    "$$x_t = \\frac{r}{1+r}\\frac{N_t}{K}, a = 1+r$$\n",
    "\n",
    "And thus:\n",
    "\n",
    "$$x_{t+1} = ax_t(1-x_t)$$\n",
    "\n",
    "An important thing about this model is that the maximum number $x$ can be is `1.0` and thus the population of crabs now is a PROPORTION of the carrying capacity ($K$) instead of an absolute number.\n",
    "</p>"
   ]
  },
  {
   "cell_type": "code",
   "execution_count": 17,
   "id": "a4a3cee4",
   "metadata": {},
   "outputs": [
    {
     "data": {
      "image/png": "[encoded data removed]",
      "text/plain": [
       "<Figure size 432x288 with 1 Axes>"
      ]
     },
     "metadata": {
      "needs_background": "light"
     },
     "output_type": "display_data"
    }
   ],
   "source": [
    "a = 1.5\n",
    "\n",
    "def log_map(xs,t):\n",
    "    y = a*xs[t-1]*(1-xs[t-1])\n",
    "    return y\n",
    "\n",
    "max_t = 20\n",
    "xs = simulate_func(log_map, max_t, A0 = 0.01)\n",
    "ts = np.arange(0,max_t)\n",
    "\n",
    "plt.plot(ts, xs,'o-')\n",
    "plt.xlabel('$t$', size = 20)\n",
    "plt.ylabel('$x_t$',size = 20)\n",
    "plt.show()"
   ]
  },
  {
   "cell_type": "markdown",
   "id": "4b81dfc1",
   "metadata": {},
   "source": [
    "An interesting thing we can do now is to vary the value of `a` and check the dynamics!"
   ]
  },
  {
   "cell_type": "code",
   "execution_count": 18,
   "id": "24cc416a",
   "metadata": {},
   "outputs": [
    {
     "data": {
      "image/png": "[encoded data removed]",
      "text/plain": [
       "<Figure size 432x288 with 1 Axes>"
      ]
     },
     "metadata": {
      "needs_background": "light"
     },
     "output_type": "display_data"
    }
   ],
   "source": [
    "a = 2.9\n",
    "max_t = 50\n",
    "xs = simulate_func(log_map, max_t, A0 = 0.01)\n",
    "ts = np.arange(0,max_t)\n",
    "\n",
    "plt.plot(ts, xs,'o-')\n",
    "plt.xlabel('$t$', size = 20)\n",
    "plt.ylabel('$x_t$',size = 20)\n",
    "plt.show()"
   ]
  },
  {
   "cell_type": "markdown",
   "id": "097647b3",
   "metadata": {},
   "source": [
    "<p style='text-align: justify'>\n",
    "Cool, by increasing the value of `a = 2.9`, we can see some interesting oscilations. However, these oscilations do not last forever. As we increased `max_t = 50`, we can see that these oscilations start to **dampen** and eventually reach the state previously explored :)\n",
    "\n",
    "### What this means for our model?\n",
    "\n",
    "This model somewhat follows real-life biological systems more closely than our other models so far. This is because there are some sort of variation being introduced before equilibrium is reached!\n",
    "\n",
    "## Future Works\n",
    "\n",
    "This analysis of this logistic map model is nowhere near complete. There are a few things that we can further explore, some of which include but not limited to:\n",
    "\n",
    "1. Increasing the value of `a` and see if you observe interesting behaviour such a cyclical behaviour or even chaotic behaviour\n",
    "2. Prove that a behaviour is cyclical or chaotic (if any) \n",
    "3. Find out the equilibrium values at each value of `a` and plot them on a graph called a bifurcation plot and comment\n",
    "4. Find out the equilibrium values at each value of `A0` and plot them on a graph called a bifurcation plot and comment\n",
    "</p>"
   ]
  },
  {
   "cell_type": "markdown",
   "id": "sought-screening",
   "metadata": {},
   "source": [
    "## References"
   ]
  },
  {
   "cell_type": "markdown",
   "id": "amino-lotus",
   "metadata": {},
   "source": [
    "\\[1\\] Torres, N. V.; Santos, G. The (Mathematical) Modeling Process in Biosciences. Frontiers in Genetics, 2015, 6. https://doi.org/10.3389/fgene.2015.00354.\n",
    "<br>\n",
    "\\[2\\] Motta, S.; Pappalardo, F. Mathematical Modeling of Biological Systems. Briefings in Bioinformatics, 2012, 14, 411–422. https://doi.org/10.1093/bib/bbs061.\n",
    "<br>\n",
    "\\[3\\] Discrete-Time Models with Difference Equations https://math.libretexts.org/@go/page/7782.\n",
    "<br>\n",
    "\\[4\\] Lee, S. Potential Trophic Importance of the Faecal Material of the Mangrove Sesarmine Crab Sesarma Messa. Marine Ecology Progress Series, 1997, 159, 275–284. https://doi.org/10.3354/meps159275.\n",
    "<br>\n",
    "\\[5\\] Sivasothi, N. Niche Preferences of Tree-climbing Crabs in Singapore Mangroves. Crustaceana, 2000, 73, 25–38. https://doi.org/10.1163/156854000504093.\n",
    "<br>\n",
    "\\[6\\] Sigler, L. Fibonacci's Liber Abaci, Springer 2002.\n",
    "<br>\n",
    "\\[7\\] Density Dependence, Regulation and Variability in Animal Populations. Philosophical Transactions of the Royal Society of London. Series B: Biological Sciences, 1990, 330, 141–150. https://doi.org/10.1098/rstb.1990.0188.\n",
    "<br>\n",
    "\\[8\\] Logistic Population Growth https://bio.libretexts.org/@go/page/14190."
   ]
  }
 ],
 "metadata": {
  "kernelspec": {
   "display_name": "Python 3 (ipykernel)",
   "language": "python",
   "name": "python3"
  },
  "language_info": {
   "codemirror_mode": {
    "name": "ipython",
    "version": 3
   },
   "file_extension": ".py",
   "mimetype": "text/x-python",
   "name": "python",
   "nbconvert_exporter": "python",
   "pygments_lexer": "ipython3",
   "version": "3.9.7"
  }
 },
 "nbformat": 4,
 "nbformat_minor": 5
}
